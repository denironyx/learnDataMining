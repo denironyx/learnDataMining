{
 "cells": [
  {
   "cell_type": "code",
   "execution_count": null,
   "metadata": {},
   "outputs": [],
   "source": []
  },
  {
   "attachments": {},
   "cell_type": "markdown",
   "metadata": {},
   "source": [
    "<b><font size=\"6\">0. Data Mining Methodology</font></b><br><br>\n",
    "First we are going to talk about Data Mining Methodologies, that describe common approaches used by data mining experts to solve a problem."
   ]
  },
  {
   "attachments": {},
   "cell_type": "markdown",
   "metadata": {},
   "source": [
    "<b><font size=\"6\">1. Data Understanding </font></b><br><br>\n",
    "Step 1 - Import the pandas library and define the alias as pd."
   ]
  },
  {
   "cell_type": "code",
   "execution_count": 1,
   "metadata": {},
   "outputs": [],
   "source": [
    "# Step 1\n",
    "import pandas as pd"
   ]
  },
  {
   "attachments": {},
   "cell_type": "markdown",
   "metadata": {},
   "source": [
    "Step 2: Read the excel file insurance.xlsx that is inside of the 100_Datasets/Insurance/data folder. Save it to the object data using the pandas method `pd.read_excel()`"
   ]
  },
  {
   "cell_type": "code",
   "execution_count": 12,
   "metadata": {},
   "outputs": [],
   "source": [
    "data = pd.read_excel('./learnDataMining/100_Datasets/Insurance/data/insurance.xlsx')"
   ]
  },
  {
   "attachments": {},
   "cell_type": "markdown",
   "metadata": {},
   "source": [
    "Step 4: Check the shape of the datset using the attribute shape. "
   ]
  },
  {
   "cell_type": "code",
   "execution_count": 13,
   "metadata": {},
   "outputs": [
    {
     "data": {
      "text/plain": [
       "(2500, 21)"
      ]
     },
     "execution_count": 13,
     "metadata": {},
     "output_type": "execute_result"
    }
   ],
   "source": [
    "#Step 3\n",
    "data.shape"
   ]
  },
  {
   "cell_type": "code",
   "execution_count": 14,
   "metadata": {},
   "outputs": [
    {
     "data": {
      "text/html": [
       "<div>\n",
       "<style scoped>\n",
       "    .dataframe tbody tr th:only-of-type {\n",
       "        vertical-align: middle;\n",
       "    }\n",
       "\n",
       "    .dataframe tbody tr th {\n",
       "        vertical-align: top;\n",
       "    }\n",
       "\n",
       "    .dataframe thead th {\n",
       "        text-align: right;\n",
       "    }\n",
       "</style>\n",
       "<table border=\"1\" class=\"dataframe\">\n",
       "  <thead>\n",
       "    <tr style=\"text-align: right;\">\n",
       "      <th></th>\n",
       "      <th>InsuredID</th>\n",
       "      <th>Year_Birth</th>\n",
       "      <th>Gender</th>\n",
       "      <th>Region</th>\n",
       "      <th>Marital_Status</th>\n",
       "      <th>Smoker</th>\n",
       "      <th>Income</th>\n",
       "      <th>Dt_Hospitalization</th>\n",
       "      <th>BMI</th>\n",
       "      <th>BSA</th>\n",
       "      <th>...</th>\n",
       "      <th>Treatment</th>\n",
       "      <th>Medication</th>\n",
       "      <th>Medical_Assistance</th>\n",
       "      <th>Exams</th>\n",
       "      <th>Ambulance_Transport</th>\n",
       "      <th>Patient_Coverage</th>\n",
       "      <th>Insurance_Coverage</th>\n",
       "      <th>Insured_Satisfaction</th>\n",
       "      <th>Health_Plan_Option</th>\n",
       "      <th>Upgrade_Health_Plan</th>\n",
       "    </tr>\n",
       "  </thead>\n",
       "  <tbody>\n",
       "    <tr>\n",
       "      <th>0</th>\n",
       "      <td>1003</td>\n",
       "      <td>1991</td>\n",
       "      <td>M</td>\n",
       "      <td>southeast</td>\n",
       "      <td>NaN</td>\n",
       "      <td>0</td>\n",
       "      <td>29761.20</td>\n",
       "      <td>2014-05-27</td>\n",
       "      <td>69</td>\n",
       "      <td>11</td>\n",
       "      <td>...</td>\n",
       "      <td>32</td>\n",
       "      <td>19</td>\n",
       "      <td>24</td>\n",
       "      <td>1</td>\n",
       "      <td>24</td>\n",
       "      <td>59</td>\n",
       "      <td>41</td>\n",
       "      <td>3</td>\n",
       "      <td>2</td>\n",
       "      <td>0</td>\n",
       "    </tr>\n",
       "    <tr>\n",
       "      <th>1</th>\n",
       "      <td>1004</td>\n",
       "      <td>1956</td>\n",
       "      <td>M</td>\n",
       "      <td>undefined</td>\n",
       "      <td>Married</td>\n",
       "      <td>0</td>\n",
       "      <td>98249.55</td>\n",
       "      <td>2013-07-21</td>\n",
       "      <td>10</td>\n",
       "      <td>26</td>\n",
       "      <td>...</td>\n",
       "      <td>60</td>\n",
       "      <td>10</td>\n",
       "      <td>19</td>\n",
       "      <td>6</td>\n",
       "      <td>5</td>\n",
       "      <td>35</td>\n",
       "      <td>65</td>\n",
       "      <td>5</td>\n",
       "      <td>2</td>\n",
       "      <td>0</td>\n",
       "    </tr>\n",
       "    <tr>\n",
       "      <th>2</th>\n",
       "      <td>1006</td>\n",
       "      <td>1983</td>\n",
       "      <td>F</td>\n",
       "      <td>southwest</td>\n",
       "      <td>Together</td>\n",
       "      <td>0</td>\n",
       "      <td>23505.30</td>\n",
       "      <td>2013-10-30</td>\n",
       "      <td>65</td>\n",
       "      <td>14</td>\n",
       "      <td>...</td>\n",
       "      <td>47</td>\n",
       "      <td>2</td>\n",
       "      <td>48</td>\n",
       "      <td>2</td>\n",
       "      <td>1</td>\n",
       "      <td>67</td>\n",
       "      <td>33</td>\n",
       "      <td>4</td>\n",
       "      <td>2</td>\n",
       "      <td>0</td>\n",
       "    </tr>\n",
       "    <tr>\n",
       "      <th>3</th>\n",
       "      <td>1007</td>\n",
       "      <td>1970</td>\n",
       "      <td>F</td>\n",
       "      <td>southeast</td>\n",
       "      <td>Single</td>\n",
       "      <td>0</td>\n",
       "      <td>72959.25</td>\n",
       "      <td>2012-12-06</td>\n",
       "      <td>73</td>\n",
       "      <td>18</td>\n",
       "      <td>...</td>\n",
       "      <td>71</td>\n",
       "      <td>7</td>\n",
       "      <td>13</td>\n",
       "      <td>1</td>\n",
       "      <td>8</td>\n",
       "      <td>46</td>\n",
       "      <td>54</td>\n",
       "      <td>4</td>\n",
       "      <td>2</td>\n",
       "      <td>0</td>\n",
       "    </tr>\n",
       "    <tr>\n",
       "      <th>4</th>\n",
       "      <td>1009</td>\n",
       "      <td>1941</td>\n",
       "      <td>F</td>\n",
       "      <td>southeast</td>\n",
       "      <td>Married</td>\n",
       "      <td>1</td>\n",
       "      <td>114973.95</td>\n",
       "      <td>2013-10-30</td>\n",
       "      <td>75</td>\n",
       "      <td>30</td>\n",
       "      <td>...</td>\n",
       "      <td>38</td>\n",
       "      <td>9</td>\n",
       "      <td>35</td>\n",
       "      <td>9</td>\n",
       "      <td>9</td>\n",
       "      <td>17</td>\n",
       "      <td>83</td>\n",
       "      <td>5</td>\n",
       "      <td>2</td>\n",
       "      <td>0</td>\n",
       "    </tr>\n",
       "  </tbody>\n",
       "</table>\n",
       "<p>5 rows × 21 columns</p>\n",
       "</div>"
      ],
      "text/plain": [
       "   InsuredID  Year_Birth Gender     Region Marital_Status  Smoker     Income  \\\n",
       "0       1003        1991      M  southeast            NaN       0   29761.20   \n",
       "1       1004        1956      M  undefined        Married       0   98249.55   \n",
       "2       1006        1983      F  southwest       Together       0   23505.30   \n",
       "3       1007        1970      F  southeast         Single       0   72959.25   \n",
       "4       1009        1941      F  southeast        Married       1  114973.95   \n",
       "\n",
       "  Dt_Hospitalization  BMI  BSA  ...  Treatment  Medication  \\\n",
       "0         2014-05-27   69   11  ...         32          19   \n",
       "1         2013-07-21   10   26  ...         60          10   \n",
       "2         2013-10-30   65   14  ...         47           2   \n",
       "3         2012-12-06   73   18  ...         71           7   \n",
       "4         2013-10-30   75   30  ...         38           9   \n",
       "\n",
       "   Medical_Assistance  Exams  Ambulance_Transport  Patient_Coverage  \\\n",
       "0                  24      1                   24                59   \n",
       "1                  19      6                    5                35   \n",
       "2                  48      2                    1                67   \n",
       "3                  13      1                    8                46   \n",
       "4                  35      9                    9                17   \n",
       "\n",
       "   Insurance_Coverage  Insured_Satisfaction  Health_Plan_Option  \\\n",
       "0                  41                     3                   2   \n",
       "1                  65                     5                   2   \n",
       "2                  33                     4                   2   \n",
       "3                  54                     4                   2   \n",
       "4                  83                     5                   2   \n",
       "\n",
       "   Upgrade_Health_Plan  \n",
       "0                    0  \n",
       "1                    0  \n",
       "2                    0  \n",
       "3                    0  \n",
       "4                    0  \n",
       "\n",
       "[5 rows x 21 columns]"
      ]
     },
     "execution_count": 14,
     "metadata": {},
     "output_type": "execute_result"
    }
   ],
   "source": [
    "# Step 4: Check the first 5 rows of the dataset using the pandas method head()\n",
    "data.head()"
   ]
  },
  {
   "cell_type": "code",
   "execution_count": null,
   "metadata": {},
   "outputs": [],
   "source": []
  }
 ],
 "metadata": {
  "kernelspec": {
   "display_name": "Python 3",
   "language": "python",
   "name": "python3"
  },
  "language_info": {
   "codemirror_mode": {
    "name": "ipython",
    "version": 3
   },
   "file_extension": ".py",
   "mimetype": "text/x-python",
   "name": "python",
   "nbconvert_exporter": "python",
   "pygments_lexer": "ipython3",
   "version": "3.8.5"
  },
  "orig_nbformat": 4
 },
 "nbformat": 4,
 "nbformat_minor": 2
}
